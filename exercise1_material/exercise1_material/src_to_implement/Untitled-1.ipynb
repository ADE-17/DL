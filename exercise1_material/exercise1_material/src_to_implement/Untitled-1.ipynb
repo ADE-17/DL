{
 "cells": [
  {
   "cell_type": "code",
   "execution_count": 3,
   "metadata": {},
   "outputs": [],
   "source": [
    "from Layers import FullyConnected, Helpers, ReLU, SoftMax, Loss\n",
    "from Optimization import Optimizers\n",
    "import copy\n",
    "import matplotlib.pyplot as plt\n",
    "import numpy as np"
   ]
  },
  {
   "cell_type": "code",
   "execution_count": 65,
   "metadata": {},
   "outputs": [],
   "source": [
    "class NeuralNetwork:\n",
    "    def __init__(self, optimizer):\n",
    "        self.optimizer = optimizer\n",
    "        self.loss = []\n",
    "        self.layers = []\n",
    "        self.data_layer = None\n",
    "        self.loss_layer = None\n",
    "        \n",
    "    def forward(self):\n",
    "        input_tensor, self.label_tensor = self.data_layer.next()\n",
    "        output = input_tensor\n",
    "        for layer in self.layers:\n",
    "            output = layer.forward(output)\n",
    "        return output\n",
    "    \n",
    "    def backward(self, label_tensor):\n",
    "        error = self.loss_layer.backward(label_tensor)\n",
    "        for layer in reversed(self.layers):\n",
    "            error = layer.backward(error)\n",
    "        \n",
    "    def append_layer(self, layer):\n",
    "        if layer.trainable:\n",
    "            layer.optimizer = copy.deepcopy(self.optimizer)\n",
    "        self.layers.append(layer)\n",
    "        \n",
    "    def train(self, iterations):\n",
    "        for _ in range(iterations):\n",
    "            output = self.forward()\n",
    "            self.loss.append(self.loss_layer.forward(output, self.label_tensor))\n",
    "            self.backward(self.label_tensor)\n",
    "            \n",
    "    def test(self, input_tensor):\n",
    "        output = input_tensor\n",
    "        for layer in self.layers:\n",
    "            output = layer.forward(output)\n",
    "        return output"
   ]
  },
  {
   "cell_type": "code",
   "execution_count": 67,
   "metadata": {},
   "outputs": [],
   "source": [
    "import warnings\n",
    "with warnings.catch_warnings():\n",
    " # ignore all caught warnings\n",
    " warnings.filterwarnings(\"ignore\")"
   ]
  },
  {
   "cell_type": "code",
   "execution_count": 69,
   "metadata": {},
   "outputs": [
    {
     "name": "stderr",
     "output_type": "stream",
     "text": [
      "c:\\Users\\ADE17\\anaconda3\\anaconda2\\lib\\site-packages\\sklearn\\preprocessing\\_encoders.py:828: FutureWarning: `sparse` was renamed to `sparse_output` in version 1.2 and will be removed in 1.4. `sparse_output` is ignored unless you leave `sparse` to its default value.\n",
      "  warnings.warn(\n"
     ]
    }
   ],
   "source": [
    "net = NeuralNetwork(Optimizers.Sgd(1))\n",
    "categories = 3\n",
    "input_size = 4\n",
    "net.data_layer = Helpers.IrisData(50)\n",
    "net.loss_layer = Loss.CrossEntropyLoss()\n",
    "fcl_1 = FullyConnected.FullyConnected(input_size, categories)\n",
    "net.append_layer(fcl_1)\n",
    "net.append_layer(ReLU.ReLU())\n",
    "fcl_2 = FullyConnected.FullyConnected(categories, categories)\n",
    "net.append_layer(fcl_2)\n",
    "net.append_layer(SoftMax.SoftMax())\n",
    "\n",
    "out = net.forward()\n",
    "out2 = net.forward()"
   ]
  }
 ],
 "metadata": {
  "kernelspec": {
   "display_name": "base",
   "language": "python",
   "name": "python3"
  },
  "language_info": {
   "codemirror_mode": {
    "name": "ipython",
    "version": 3
   },
   "file_extension": ".py",
   "mimetype": "text/x-python",
   "name": "python",
   "nbconvert_exporter": "python",
   "pygments_lexer": "ipython3",
   "version": "3.9.12"
  },
  "orig_nbformat": 4
 },
 "nbformat": 4,
 "nbformat_minor": 2
}
