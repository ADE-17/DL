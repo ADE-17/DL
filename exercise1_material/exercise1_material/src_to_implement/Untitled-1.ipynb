{
 "cells": [
  {
   "cell_type": "code",
   "execution_count": 7,
   "metadata": {},
   "outputs": [
    {
     "ename": "ModuleNotFoundError",
     "evalue": "No module named 'Base'",
     "output_type": "error",
     "traceback": [
      "\u001b[1;31m---------------------------------------------------------------------------\u001b[0m",
      "\u001b[1;31mModuleNotFoundError\u001b[0m                       Traceback (most recent call last)",
      "\u001b[1;32mUntitled-1.ipynb Cell 1\u001b[0m in \u001b[0;36m<cell line: 1>\u001b[1;34m()\u001b[0m\n\u001b[1;32m----> <a href='vscode-notebook-cell:Untitled-1.ipynb?jupyter-notebook#W4sdW50aXRsZWQ%3D?line=0'>1</a>\u001b[0m \u001b[39mfrom\u001b[39;00m \u001b[39mBase\u001b[39;00m \u001b[39mimport\u001b[39;00m \u001b[39m*\u001b[39m\n\u001b[0;32m      <a href='vscode-notebook-cell:Untitled-1.ipynb?jupyter-notebook#W4sdW50aXRsZWQ%3D?line=1'>2</a>\u001b[0m \u001b[39mimport\u001b[39;00m \u001b[39mnumpy\u001b[39;00m \u001b[39mas\u001b[39;00m \u001b[39mnp\u001b[39;00m\n\u001b[0;32m      <a href='vscode-notebook-cell:Untitled-1.ipynb?jupyter-notebook#W4sdW50aXRsZWQ%3D?line=3'>4</a>\u001b[0m \u001b[39mclass\u001b[39;00m \u001b[39mFullyConnected\u001b[39;00m(BaseLayer):\n",
      "\u001b[1;31mModuleNotFoundError\u001b[0m: No module named 'Base'"
     ]
    }
   ],
   "source": [
    "from Base import *\n",
    "import numpy as np\n",
    "\n",
    "class FullyConnected(BaseLayer):\n",
    "    def __init__(self, input_size, output_size):\n",
    "        super().__init__()\n",
    "        self.trainable = True\n",
    "        self.weights = np.random.uniform(0, 1, size=(input_size, output_size))\n",
    "        self.optimizer = None\n",
    "\n",
    "    def forward(self, input_tensor):\n",
    "        # Perform forward pass calculations and return the output tensor\n",
    "        output_tensor = np.dot(input_tensor, self.weights)\n",
    "        return output_tensor\n",
    "\n",
    "    @property\n",
    "    def optimizer(self):\n",
    "        return self._optimizer\n",
    "\n",
    "    @optimizer.setter\n",
    "    def optimizer(self, value):\n",
    "        self._optimizer = value\n",
    "\n",
    "    def backward(self, error_tensor):\n",
    "        # Perform backward pass calculations and return the error tensor for the previous layer\n",
    "        if self.optimizer is not None:\n",
    "            gradient_weights = np.dot(input_tensor.T, error_tensor)\n",
    "            self.weights = self.optimizer.calculate_update(self.weights, gradient_weights)\n",
    "\n",
    "        return np.dot(error_tensor, self.weights.T)\n",
    "\n",
    "    @property\n",
    "    def gradient_weights(self):\n",
    "        return np.dot(input_tensor.T, error_tensor)"
   ]
  },
  {
   "cell_type": "code",
   "execution_count": null,
   "metadata": {},
   "outputs": [],
   "source": []
  },
  {
   "cell_type": "code",
   "execution_count": null,
   "metadata": {},
   "outputs": [],
   "source": []
  },
  {
   "cell_type": "code",
   "execution_count": null,
   "metadata": {},
   "outputs": [],
   "source": []
  },
  {
   "cell_type": "code",
   "execution_count": null,
   "metadata": {},
   "outputs": [],
   "source": []
  }
 ],
 "metadata": {
  "kernelspec": {
   "display_name": "base",
   "language": "python",
   "name": "python3"
  },
  "language_info": {
   "codemirror_mode": {
    "name": "ipython",
    "version": 3
   },
   "file_extension": ".py",
   "mimetype": "text/x-python",
   "name": "python",
   "nbconvert_exporter": "python",
   "pygments_lexer": "ipython3",
   "version": "3.9.12"
  },
  "orig_nbformat": 4
 },
 "nbformat": 4,
 "nbformat_minor": 2
}
