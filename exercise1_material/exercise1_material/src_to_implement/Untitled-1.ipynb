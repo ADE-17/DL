{
 "cells": [
  {
   "cell_type": "code",
   "execution_count": 9,
   "metadata": {},
   "outputs": [],
   "source": [
    "from Layers.Base import BaseLayer\n",
    "from Optimization import Optimizers\n",
    "import numpy as np"
   ]
  },
  {
   "cell_type": "code",
   "execution_count": 39,
   "metadata": {},
   "outputs": [],
   "source": [
    "import numpy as np\n",
    "# from Layers.Layer import Layer\n",
    "\n",
    "class FullyConnected(BaseLayer):\n",
    "    def __init__(self, input_size, output_size):\n",
    "        super().__init__()\n",
    "        self.trainable = True\n",
    "        self.weights = np.random.uniform(size=(input_size, output_size))\n",
    "        self.bias = np.random.uniform(size=(1, output_size))\n",
    "        self.optimizer = None\n",
    "        self._gradient_weights = None\n",
    "\n",
    "    def forward(self, input_tensor):\n",
    "        self.input_tensor = input_tensor\n",
    "        return np.dot(input_tensor, self.weights) + self.bias\n",
    "\n",
    "    @property\n",
    "    def optimizer(self):\n",
    "        return self._optimizer\n",
    "\n",
    "    @optimizer.setter\n",
    "    def optimizer(self, optimizer):\n",
    "        self._optimizer = optimizer\n",
    "\n",
    "    def backward(self, error_tensor):\n",
    "        if self.optimizer is not None:\n",
    "            gradient_weights = np.dot(self.input_tensor.T, error_tensor)\n",
    "            gradient_bias = np.sum(error_tensor, axis=0, keepdims=True)\n",
    "            self.weights = self.optimizer.calculate_update(self.weights, gradient_weights)\n",
    "            self.bias = self.optimizer.calculate_update(self.bias, gradient_bias)\n",
    "            self._gradient_weights = gradient_weights\n",
    "        return np.dot(error_tensor, self.weights.T)\n",
    "    \n",
    "    def gradient_weights(self):\n",
    "        return self._gradient_weights\n"
   ]
  },
  {
   "cell_type": "code",
   "execution_count": 40,
   "metadata": {},
   "outputs": [],
   "source": [
    "batch_size = 9\n",
    "input_size = 4\n",
    "output_size = 3\n",
    "input_tensor = np.random.rand(batch_size, input_size)\n",
    "\n",
    "categories = 4\n",
    "label_tensor = np.zeros([batch_size, categories])\n",
    "for i in range(batch_size):\n",
    "    label_tensor[i, np.random.randint(0, categories)] = 1  # one-hot encoded labels"
   ]
  },
  {
   "cell_type": "code",
   "execution_count": 41,
   "metadata": {},
   "outputs": [],
   "source": [
    "input_tensor = np.abs(np.random.random((batch_size, input_size)))\n",
    "layers = list()\n",
    "layers.append(FullyConnected(input_size, categories))\n",
    "layers.append(L2Loss())"
   ]
  },
  {
   "cell_type": "code",
   "execution_count": 42,
   "metadata": {},
   "outputs": [
    {
     "ename": "AttributeError",
     "evalue": "'FullyConnected' object has no attribute 'gradient_weights'",
     "output_type": "error",
     "traceback": [
      "\u001b[1;31m---------------------------------------------------------------------------\u001b[0m",
      "\u001b[1;31mAttributeError\u001b[0m                            Traceback (most recent call last)",
      "\u001b[1;32mc:\\Users\\ADE17\\Desktop\\Masters\\Deep-Learning\\DL\\exercise1_material\\exercise1_material\\src_to_implement\\Untitled-1.ipynb Cell 5\u001b[0m in \u001b[0;36m<cell line: 2>\u001b[1;34m()\u001b[0m\n\u001b[0;32m      <a href='vscode-notebook-cell:/c%3A/Users/ADE17/Desktop/Masters/Deep-Learning/DL/exercise1_material/exercise1_material/src_to_implement/Untitled-1.ipynb#X33sZmlsZQ%3D%3D?line=0'>1</a>\u001b[0m \u001b[39mfrom\u001b[39;00m \u001b[39mLayers\u001b[39;00m \u001b[39mimport\u001b[39;00m Helpers\n\u001b[1;32m----> <a href='vscode-notebook-cell:/c%3A/Users/ADE17/Desktop/Masters/Deep-Learning/DL/exercise1_material/exercise1_material/src_to_implement/Untitled-1.ipynb#X33sZmlsZQ%3D%3D?line=1'>2</a>\u001b[0m difference \u001b[39m=\u001b[39m Helpers\u001b[39m.\u001b[39;49mgradient_check_weights(layers, input_tensor, label_tensor, \u001b[39mFalse\u001b[39;49;00m)\n",
      "File \u001b[1;32mc:\\Users\\ADE17\\Desktop\\Masters\\Deep-Learning\\DL\\exercise1_material\\exercise1_material\\src_to_implement\\Layers\\Helpers.py:74\u001b[0m, in \u001b[0;36mgradient_check_weights\u001b[1;34m(layers, input_tensor, label_tensor, bias)\u001b[0m\n\u001b[0;32m     72\u001b[0m     analytical_derivative \u001b[39m=\u001b[39m layers[\u001b[39m0\u001b[39m]\u001b[39m.\u001b[39mgradient_bias\n\u001b[0;32m     73\u001b[0m \u001b[39melse\u001b[39;00m:\n\u001b[1;32m---> 74\u001b[0m     analytical_derivative \u001b[39m=\u001b[39m layers[\u001b[39m0\u001b[39;49m]\u001b[39m.\u001b[39;49mgradient_weights\n\u001b[0;32m     76\u001b[0m analytical_derivative \u001b[39m=\u001b[39m analytical_derivative[it\u001b[39m.\u001b[39mmulti_index]\n\u001b[0;32m     78\u001b[0m \u001b[39mif\u001b[39;00m bias:\n",
      "\u001b[1;31mAttributeError\u001b[0m: 'FullyConnected' object has no attribute 'gradient_weights'"
     ]
    }
   ],
   "source": [
    "from Layers import Helpers\n",
    "difference = Helpers.gradient_check_weights(layers, input_tensor, label_tensor, False)"
   ]
  },
  {
   "cell_type": "code",
   "execution_count": 27,
   "metadata": {},
   "outputs": [
    {
     "data": {
      "text/plain": [
       "[<__main__.FullyConnected at 0x282bd976cd0>,\n",
       " <__main__.L2Loss at 0x282bd976b20>]"
      ]
     },
     "execution_count": 27,
     "metadata": {},
     "output_type": "execute_result"
    }
   ],
   "source": [
    "layers"
   ]
  },
  {
   "cell_type": "code",
   "execution_count": 20,
   "metadata": {},
   "outputs": [],
   "source": [
    "class L2Loss:\n",
    "    def __init__(self):\n",
    "        self.input_tensor = None\n",
    "\n",
    "    def predict(self, input_tensor):\n",
    "        return input_tensor\n",
    "\n",
    "    def forward(self, input_tensor, label_tensor):\n",
    "        self.input_tensor = input_tensor\n",
    "        return np.sum(np.square(input_tensor - label_tensor))\n",
    "\n",
    "    def backward(self, label_tensor):\n",
    "        return 2*np.subtract(self.input_tensor, label_tensor)\n"
   ]
  },
  {
   "cell_type": "code",
   "execution_count": null,
   "metadata": {},
   "outputs": [],
   "source": []
  }
 ],
 "metadata": {
  "kernelspec": {
   "display_name": "base",
   "language": "python",
   "name": "python3"
  },
  "language_info": {
   "codemirror_mode": {
    "name": "ipython",
    "version": 3
   },
   "file_extension": ".py",
   "mimetype": "text/x-python",
   "name": "python",
   "nbconvert_exporter": "python",
   "pygments_lexer": "ipython3",
   "version": "3.9.12"
  },
  "orig_nbformat": 4
 },
 "nbformat": 4,
 "nbformat_minor": 2
}
