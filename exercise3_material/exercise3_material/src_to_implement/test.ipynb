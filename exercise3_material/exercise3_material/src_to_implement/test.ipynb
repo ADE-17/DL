{
 "cells": [
  {
   "cell_type": "code",
   "execution_count": 31,
   "metadata": {},
   "outputs": [],
   "source": []
  },
  {
   "cell_type": "code",
   "execution_count": 32,
   "metadata": {},
   "outputs": [],
   "source": [
    "batch_size = 200\n",
    "channels = 2\n",
    "input_shape = (channels, 3, 3)\n",
    "input_size = np.prod(input_shape)\n",
    "\n",
    "np.random.seed(0)\n",
    "input_tensor = np.abs(np.random.random((input_size, batch_size))).T\n",
    "input_tensor_conv = np.random.uniform(-1, 1, (batch_size, *input_shape))\n",
    "\n",
    "categories = 5\n",
    "label_tensor = np.zeros([categories, batch_size]).T\n",
    "for i in range(batch_size):\n",
    "    label_tensor[i, np.random.randint(0, categories)] = 1\n",
    "\n",
    "layers = list()\n",
    "layers.append(None)\n",
    "layers.append(Flatten.Flatten())\n",
    "layers.append(FullyConnected.FullyConnected(input_size, categories))\n",
    "layers.append(L2Loss())\n",
    "\n",
    "plot_shape = (input_shape[1], input_shape[0] * np.prod(input_shape[2:]))"
   ]
  },
  {
   "cell_type": "code",
   "execution_count": 4,
   "metadata": {},
   "outputs": [],
   "source": [
    "def _channel_moments(tensor, channels):\n",
    "    tensor = np.transpose(tensor, (0, *range(2, tensor.ndim), 1))\n",
    "    tensor = tensor.reshape(-1, channels)\n",
    "    mean = np.mean(tensor, axis=0)\n",
    "    var = np.var(tensor, axis=0)\n",
    "    return mean, var"
   ]
  },
  {
   "cell_type": "code",
   "execution_count": 47,
   "metadata": {},
   "outputs": [],
   "source": [
    "layer = BatchNormalization(channels)\n",
    "output = layer.forward(input_tensor_conv)\n",
    "mean, var = TestBatchNorm._channel_moments(output, channels)"
   ]
  },
  {
   "cell_type": "code",
   "execution_count": 50,
   "metadata": {},
   "outputs": [],
   "source": [
    "from Layers import Helpers"
   ]
  },
  {
   "cell_type": "code",
   "execution_count": null,
   "metadata": {},
   "outputs": [],
   "source": []
  },
  {
   "cell_type": "code",
   "execution_count": null,
   "metadata": {},
   "outputs": [],
   "source": []
  },
  {
   "cell_type": "code",
   "execution_count": null,
   "metadata": {},
   "outputs": [],
   "source": []
  },
  {
   "cell_type": "code",
   "execution_count": null,
   "metadata": {},
   "outputs": [],
   "source": []
  }
 ],
 "metadata": {
  "kernelspec": {
   "display_name": "base",
   "language": "python",
   "name": "python3"
  },
  "language_info": {
   "codemirror_mode": {
    "name": "ipython",
    "version": 3
   },
   "file_extension": ".py",
   "mimetype": "text/x-python",
   "name": "python",
   "nbconvert_exporter": "python",
   "pygments_lexer": "ipython3",
   "version": "3.9.12"
  },
  "orig_nbformat": 4
 },
 "nbformat": 4,
 "nbformat_minor": 2
}
