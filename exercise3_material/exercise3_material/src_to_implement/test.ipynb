{
 "cells": [
  {
   "cell_type": "code",
   "execution_count": 20,
   "metadata": {},
   "outputs": [],
   "source": [
    "import numpy as np\n",
    "import copy\n",
    "from Layers import FullyConnected, Flatten\n",
    "class L2Loss:\n",
    "\n",
    "    def __init__(self):\n",
    "        self.input_tensor = None\n",
    "\n",
    "    def forward(self, input_tensor, label_tensor):\n",
    "        self.input_tensor = input_tensor\n",
    "        return np.sum(np.square(input_tensor - label_tensor))\n",
    "\n",
    "    def backward(self, label_tensor):\n",
    "        return 2*np.subtract(self.input_tensor, label_tensor)\n",
    "class BatchNormalization:\n",
    "    \"\"\"\n",
    "    Batch Normalization layer \n",
    "    \"\"\"\n",
    "\n",
    "    def __init__(self, channels):\n",
    "        \"\"\"\n",
    "        Constructor.\n",
    "\n",
    "        Args:\n",
    "            channels (int): Number of channels in the input tensor.\n",
    "        \"\"\"\n",
    "        self.channels = channels\n",
    "        self.trainable = True\n",
    "        self.testing_phase = False\n",
    "        self.moving_mean = None\n",
    "        self.moving_var = None\n",
    "        self.moving_avg_decay = 0.8 #alpha\n",
    "\n",
    "        #Initialize\n",
    "        self.weights =  np.ones(self.channels) # gamma\n",
    "        self.bias =  np.zeros(self.channels) # beta\n",
    "\n",
    "    def forward(self, input_tensor):\n",
    "        \"\"\"\n",
    "        Performs the forward pass for the Batch Normalization layer during the training phase.\n",
    "\n",
    "        Args:\n",
    "            input_tensor (array/tensor): The input tensor to the Batch Normalization layer.\n",
    "\n",
    "        Returns:\n",
    "            array/tensor: The output tensor after applying Batch Normalization during the training phase.\n",
    "        \"\"\"\n",
    "        epsilon = 1e-15\n",
    "        need_conv = False\n",
    "        \n",
    "        if input_tensor.ndim == 4:\n",
    "            need_conv = True\n",
    "            input_tensor = self.reformat(input_tensor)\n",
    "            \n",
    "        self.input_tensor = input_tensor\n",
    "            \n",
    "        if self.testing_phase:\n",
    "            self.mean = self.moving_mean\n",
    "            self.var = self.moving_var\n",
    "        else:\n",
    "            self.mean = np.mean(input_tensor, axis= 0)\n",
    "            self.var = np.var(input_tensor, axis=0)\n",
    "            if self.moving_mean is None:\n",
    "                self.moving_mean = copy.deepcopy(self.mean)\n",
    "                self.moving_var = copy.deepcopy(self.var)\n",
    "            else:\n",
    "                self.moving_mean = self.moving_mean * self.moving_avg_decay + self.mean * (1 - self.moving_avg_decay)\n",
    "                self.moving_var = self.moving_var * self.moving_avg_decay + self.var * (1 - self.moving_avg_decay)\n",
    "                \n",
    "        self.input_tensor_hat = (input_tensor - self.mean) / np.sqrt(self.var + epsilon)\n",
    "        output_tensor = self.weights * self.input_tensor_hat + self.bias\n",
    "        \n",
    "        if need_conv:\n",
    "            output_tensor = self.reformat(output_tensor)\n",
    "            \n",
    "        return output_tensor\n",
    "\n",
    "    def reformat(self, input_tensor):\n",
    "        if input_tensor.ndim == 4:\n",
    "            self.reformat_shape = input_tensor.shape\n",
    "            B, H, M, N = input_tensor.shape\n",
    "            input_tensor = input_tensor.reshape(B, H, M * N)\n",
    "            input_tensor = input_tensor.transpose(0, 2, 1)\n",
    "            input_tensor = input_tensor.reshape(B * M * N, H)\n",
    "            return input_tensor\n",
    "        else:\n",
    "            B, H, M, N = self.reformat_shape\n",
    "            input_tensor = input_tensor.reshape(B, M * N, H)\n",
    "            input_tensor = input_tensor.transpose(0, 2, 1)\n",
    "            input_tensor = input_tensor.reshape(B, H, M, N)\n",
    "            return input_tensor"
   ]
  },
  {
   "cell_type": "code",
   "execution_count": 21,
   "metadata": {},
   "outputs": [],
   "source": [
    "batch_size = 200\n",
    "channels = 2\n",
    "input_shape = (channels, 3, 3)\n",
    "input_size = np.prod(input_shape)\n",
    "\n",
    "np.random.seed(0)\n",
    "input_tensor = np.abs(np.random.random((input_size, batch_size))).T\n",
    "input_tensor_conv = np.random.uniform(-1, 1, (batch_size, *input_shape))\n",
    "\n",
    "categories = 5\n",
    "label_tensor = np.zeros([categories, batch_size]).T\n",
    "for i in range(batch_size):\n",
    "    label_tensor[i, np.random.randint(0, categories)] = 1\n",
    "\n",
    "layers = list()\n",
    "layers.append(None)\n",
    "layers.append(Flatten.Flatten())\n",
    "layers.append(FullyConnected.FullyConnected(input_size, categories))\n",
    "layers.append(L2Loss())\n",
    "\n",
    "plot_shape = (input_shape[1], input_shape[0] * np.prod(input_shape[2:]))"
   ]
  },
  {
   "cell_type": "code",
   "execution_count": 4,
   "metadata": {},
   "outputs": [],
   "source": [
    "def _channel_moments(tensor, channels):\n",
    "    tensor = np.transpose(tensor, (0, *range(2, tensor.ndim), 1))\n",
    "    tensor = tensor.reshape(-1, channels)\n",
    "    mean = np.mean(tensor, axis=0)\n",
    "    var = np.var(tensor, axis=0)\n",
    "    return mean, var"
   ]
  },
  {
   "cell_type": "code",
   "execution_count": 28,
   "metadata": {},
   "outputs": [],
   "source": [
    "layer = BatchNormalization(channels)"
   ]
  },
  {
   "cell_type": "code",
   "execution_count": 29,
   "metadata": {},
   "outputs": [
    {
     "ename": "ValueError",
     "evalue": "operands could not be broadcast together with shapes (2,) (200,2,3,3) ",
     "output_type": "error",
     "traceback": [
      "\u001b[1;31m---------------------------------------------------------------------------\u001b[0m",
      "\u001b[1;31mValueError\u001b[0m                                Traceback (most recent call last)",
      "Cell \u001b[1;32mIn[29], line 1\u001b[0m\n\u001b[1;32m----> 1\u001b[0m output \u001b[39m=\u001b[39m layer\u001b[39m.\u001b[39;49mforward(input_tensor_conv)\n",
      "Cell \u001b[1;32mIn[20], line 64\u001b[0m, in \u001b[0;36mBatchNormalization.forward\u001b[1;34m(self, input_tensor)\u001b[0m\n\u001b[0;32m     61\u001b[0m         \u001b[39mself\u001b[39m\u001b[39m.\u001b[39mmoving_var \u001b[39m=\u001b[39m \u001b[39mself\u001b[39m\u001b[39m.\u001b[39mmoving_var \u001b[39m*\u001b[39m \u001b[39mself\u001b[39m\u001b[39m.\u001b[39mmoving_avg_decay \u001b[39m+\u001b[39m \u001b[39mself\u001b[39m\u001b[39m.\u001b[39mvar \u001b[39m*\u001b[39m (\u001b[39m1\u001b[39m \u001b[39m-\u001b[39m \u001b[39mself\u001b[39m\u001b[39m.\u001b[39mmoving_avg_decay)\n\u001b[0;32m     63\u001b[0m \u001b[39mself\u001b[39m\u001b[39m.\u001b[39minput_tensor_hat \u001b[39m=\u001b[39m (input_tensor \u001b[39m-\u001b[39m \u001b[39mself\u001b[39m\u001b[39m.\u001b[39mmean) \u001b[39m/\u001b[39m np\u001b[39m.\u001b[39msqrt(\u001b[39mself\u001b[39m\u001b[39m.\u001b[39mvar \u001b[39m+\u001b[39m epsilon)\n\u001b[1;32m---> 64\u001b[0m output_tensor \u001b[39m=\u001b[39m \u001b[39mself\u001b[39;49m\u001b[39m.\u001b[39;49mweights \u001b[39m*\u001b[39;49m \u001b[39mself\u001b[39;49m\u001b[39m.\u001b[39;49minput_tensor_hat \u001b[39m+\u001b[39m \u001b[39mself\u001b[39m\u001b[39m.\u001b[39mbias\n\u001b[0;32m     66\u001b[0m \u001b[39mreturn\u001b[39;00m output_tensor\n",
      "\u001b[1;31mValueError\u001b[0m: operands could not be broadcast together with shapes (2,) (200,2,3,3) "
     ]
    }
   ],
   "source": [
    "output = layer.forward(input_tensor_conv)"
   ]
  },
  {
   "cell_type": "code",
   "execution_count": 30,
   "metadata": {},
   "outputs": [
    {
     "data": {
      "text/plain": [
       "4"
      ]
     },
     "execution_count": 30,
     "metadata": {},
     "output_type": "execute_result"
    }
   ],
   "source": [
    "input_tensor_conv.ndim"
   ]
  },
  {
   "cell_type": "code",
   "execution_count": null,
   "metadata": {},
   "outputs": [],
   "source": []
  },
  {
   "cell_type": "code",
   "execution_count": null,
   "metadata": {},
   "outputs": [],
   "source": []
  },
  {
   "cell_type": "code",
   "execution_count": null,
   "metadata": {},
   "outputs": [],
   "source": []
  },
  {
   "cell_type": "code",
   "execution_count": null,
   "metadata": {},
   "outputs": [],
   "source": []
  },
  {
   "cell_type": "code",
   "execution_count": null,
   "metadata": {},
   "outputs": [],
   "source": []
  },
  {
   "cell_type": "code",
   "execution_count": null,
   "metadata": {},
   "outputs": [],
   "source": []
  }
 ],
 "metadata": {
  "kernelspec": {
   "display_name": "base",
   "language": "python",
   "name": "python3"
  },
  "language_info": {
   "codemirror_mode": {
    "name": "ipython",
    "version": 3
   },
   "file_extension": ".py",
   "mimetype": "text/x-python",
   "name": "python",
   "nbconvert_exporter": "python",
   "pygments_lexer": "ipython3",
   "version": "3.9.12"
  },
  "orig_nbformat": 4
 },
 "nbformat": 4,
 "nbformat_minor": 2
}
