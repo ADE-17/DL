{
 "cells": [
  {
   "cell_type": "code",
   "execution_count": 1,
   "metadata": {},
   "outputs": [],
   "source": [
    "import numpy as np\n",
    "from skimage import io\n",
    "import os\n",
    "import matplotlib.pyplot as plt"
   ]
  },
  {
   "cell_type": "code",
   "execution_count": 3,
   "metadata": {},
   "outputs": [],
   "source": [
    "path = r\"C:\\Users\\ADE17\\Desktop\\Masters\\Deep-Learning\\DL\\exercise0_material\\exercise0_material\\src_to_implement\\reference_arrays\"\n",
    "images = os.listdir(path)"
   ]
  },
  {
   "cell_type": "code",
   "execution_count": 4,
   "metadata": {},
   "outputs": [],
   "source": [
    "img_list = []\n",
    "for i in images:\n",
    "    img_list.append(np.load(os.path.join(path,i)))"
   ]
  },
  {
   "cell_type": "code",
   "execution_count": 5,
   "metadata": {},
   "outputs": [
    {
     "data": {
      "text/plain": [
       "<matplotlib.image.AxesImage at 0x26890277eb0>"
      ]
     },
     "execution_count": 5,
     "metadata": {},
     "output_type": "execute_result"
    },
    {
     "data": {
      "image/png": "[encoded data removed]",
      "text/plain": [
       "<Figure size 432x288 with 1 Axes>"
      ]
     },
     "metadata": {
      "needs_background": "light"
     },
     "output_type": "display_data"
    }
   ],
   "source": [
    "plt.imshow(img_list[0])"
   ]
  },
  {
   "cell_type": "code",
   "execution_count": 6,
   "metadata": {},
   "outputs": [],
   "source": [
    "test = np.load(r\"C:\\Users\\ADE17\\Desktop\\Masters\\Deep-Learning\\DL\\exercise0_material\\exercise0_material\\src_to_implement\\test_data.npy\")"
   ]
  },
  {
   "cell_type": "code",
   "execution_count": 159,
   "metadata": {},
   "outputs": [],
   "source": [
    "class Checker2:\n",
    "    def __init__(self, resolution, tile_size):\n",
    "        self.resolution = resolution\n",
    "        self.tile_size = tile_size\n",
    "        self.output = np.zeros((self.resolution,self.resolution))\n",
    "        \n",
    "    def draw(self):\n",
    "        indices = np.indices((self.resolution//self.tile_size, self.resolution//self.tile_size))\n",
    "        tile_sum = indices[0] + indices[1]\n",
    "        checkers_bool = tile_sum % 2 != 0\n",
    "        checkers_array = checkers_bool.astype(int)\n",
    "        scale_factor = self.resolution//checkers_array.shape[0]\n",
    "        self.output = np.kron(checkers_array, np.ones((scale_factor, scale_factor))).astype(int)\n",
    "        \n",
    "        return self.output\n",
    "    \n",
    "    def show(self):\n",
    "        plt.imshow(self.output, cmap='gray')\n",
    "        plt.show()"
   ]
  },
  {
   "cell_type": "code",
   "execution_count": 160,
   "metadata": {},
   "outputs": [],
   "source": [
    "r,s = 250,25\n",
    "x = Checker2(r,s).draw()"
   ]
  },
  {
   "cell_type": "code",
   "execution_count": 161,
   "metadata": {},
   "outputs": [
    {
     "name": "stderr",
     "output_type": "stream",
     "text": [
      "c:\\Users\\ADE17\\anaconda3\\anaconda2\\lib\\site-packages\\skimage\\io\\_plugins\\matplotlib_plugin.py:150: UserWarning: Low image data range; displaying image with stretched contrast.\n",
      "  lo, hi, cmap = _get_display_range(image)\n"
     ]
    },
    {
     "data": {
      "text/plain": [
       "<matplotlib.image.AxesImage at 0x2689709e910>"
      ]
     },
     "execution_count": 161,
     "metadata": {},
     "output_type": "execute_result"
    },
    {
     "data": {
      "image/png": "[encoded data removed]",
      "text/plain": [
       "<Figure size 432x288 with 2 Axes>"
      ]
     },
     "metadata": {
      "needs_background": "light"
     },
     "output_type": "display_data"
    }
   ],
   "source": [
    "io.imshow(x)"
   ]
  },
  {
   "cell_type": "code",
   "execution_count": 162,
   "metadata": {},
   "outputs": [
    {
     "ename": "AttributeError",
     "evalue": "'Checker2' object has no attribute 'output'",
     "output_type": "error",
     "traceback": [
      "\u001b[1;31m---------------------------------------------------------------------------\u001b[0m",
      "\u001b[1;31mAttributeError\u001b[0m                            Traceback (most recent call last)",
      "\u001b[1;32mc:\\Users\\ADE17\\Desktop\\Masters\\Deep-Learning\\DL\\exercise0_material\\exercise0_material\\notebooks\\try1.ipynb Cell 9\u001b[0m in \u001b[0;36m<cell line: 1>\u001b[1;34m()\u001b[0m\n\u001b[1;32m----> <a href='vscode-notebook-cell:/c%3A/Users/ADE17/Desktop/Masters/Deep-Learning/DL/exercise0_material/exercise0_material/notebooks/try1.ipynb#X66sZmlsZQ%3D%3D?line=0'>1</a>\u001b[0m Checker2(r,s)\u001b[39m.\u001b[39;49mshow()\n",
      "\u001b[1;32mc:\\Users\\ADE17\\Desktop\\Masters\\Deep-Learning\\DL\\exercise0_material\\exercise0_material\\notebooks\\try1.ipynb Cell 9\u001b[0m in \u001b[0;36mChecker2.show\u001b[1;34m(self)\u001b[0m\n\u001b[0;32m     <a href='vscode-notebook-cell:/c%3A/Users/ADE17/Desktop/Masters/Deep-Learning/DL/exercise0_material/exercise0_material/notebooks/try1.ipynb#X66sZmlsZQ%3D%3D?line=16'>17</a>\u001b[0m \u001b[39mdef\u001b[39;00m \u001b[39mshow\u001b[39m(\u001b[39mself\u001b[39m):\n\u001b[1;32m---> <a href='vscode-notebook-cell:/c%3A/Users/ADE17/Desktop/Masters/Deep-Learning/DL/exercise0_material/exercise0_material/notebooks/try1.ipynb#X66sZmlsZQ%3D%3D?line=17'>18</a>\u001b[0m     plt\u001b[39m.\u001b[39mimshow(\u001b[39mself\u001b[39;49m\u001b[39m.\u001b[39;49moutput, cmap\u001b[39m=\u001b[39m\u001b[39m'\u001b[39m\u001b[39mgray\u001b[39m\u001b[39m'\u001b[39m)\n\u001b[0;32m     <a href='vscode-notebook-cell:/c%3A/Users/ADE17/Desktop/Masters/Deep-Learning/DL/exercise0_material/exercise0_material/notebooks/try1.ipynb#X66sZmlsZQ%3D%3D?line=18'>19</a>\u001b[0m     plt\u001b[39m.\u001b[39mshow()\n",
      "\u001b[1;31mAttributeError\u001b[0m: 'Checker2' object has no attribute 'output'"
     ]
    }
   ],
   "source": [
    "Checker2(r,s).show()"
   ]
  },
  {
   "cell_type": "code",
   "execution_count": null,
   "metadata": {},
   "outputs": [],
   "source": []
  },
  {
   "cell_type": "code",
   "execution_count": null,
   "metadata": {},
   "outputs": [],
   "source": []
  },
  {
   "cell_type": "code",
   "execution_count": null,
   "metadata": {},
   "outputs": [],
   "source": []
  }
 ],
 "metadata": {
  "kernelspec": {
   "display_name": "base",
   "language": "python",
   "name": "python3"
  },
  "language_info": {
   "codemirror_mode": {
    "name": "ipython",
    "version": 3
   },
   "file_extension": ".py",
   "mimetype": "text/x-python",
   "name": "python",
   "nbconvert_exporter": "python",
   "pygments_lexer": "ipython3",
   "version": "3.9.12"
  },
  "orig_nbformat": 4
 },
 "nbformat": 4,
 "nbformat_minor": 2
}
