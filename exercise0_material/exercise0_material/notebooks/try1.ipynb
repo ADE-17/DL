{
 "cells": [
  {
   "cell_type": "code",
   "execution_count": 1,
   "metadata": {},
   "outputs": [],
   "source": [
    "\n",
    "import numpy as np\n",
    "from skimage import io\n",
    "import os\n",
    "import matplotlib.pyplot as plt\n",
    "import sys\n",
    "import json\n",
    "import cv2"
   ]
  },
  {
   "cell_type": "code",
   "execution_count": 2,
   "metadata": {},
   "outputs": [],
   "source": [
    "data_path = r\"C:\\Users\\ADE17\\Desktop\\Masters\\Deep-Learning\\DL\\exercise0_material\\exercise0_material\\src_to_implement\\data\"\n",
    "label_path = os.path.join(data_path,'Labels.json')\n",
    "file_path = os.path.join(data_path,'exercise_data')"
   ]
  },
  {
   "cell_type": "code",
   "execution_count": 3,
   "metadata": {},
   "outputs": [],
   "source": [
    "path = r\"C:\\Users\\ADE17\\Desktop\\Masters\\Deep-Learning\\DL\\exercise0_material\\exercise0_material\\src_to_implement\"\n",
    "sys.path.insert(0,path)"
   ]
  },
  {
   "cell_type": "code",
   "execution_count": 4,
   "metadata": {},
   "outputs": [],
   "source": [
    "def _get_corner_points(image):\n",
    "    # Utility function to check whether the augmentations where performed\n",
    "    # expects batch of image - expected shape is [s,x,y,c]\n",
    "    return image[:, [0, -1], :, :][:, :, [0, -1], :]"
   ]
  },
  {
   "cell_type": "code",
   "execution_count": 51,
   "metadata": {},
   "outputs": [],
   "source": [
    "class ImageGenerator:\n",
    "    def _get_corner_points(self, image):\n",
    "        # Utility function to check whether the augmentations where performed\n",
    "        # expects batch of image - expected shape is [s,x,y,c]\n",
    "        return image[:, [0, -1], :, :][:, :, [0, -1], :]\n",
    "    def __init__(self, file_path, label_path, batch_size, image_size, rotation=False, mirroring=False, shuffle=False):\n",
    "        # Define all members of your generator class object as global members here.\n",
    "        # These need to include:\n",
    "        # the batch size\n",
    "        # the image size\n",
    "        # flags for different augmentations and whether the data should be shuffled for each epoch\n",
    "        # Also depending on the size of your data-set you can consider loading all images into memory here already.\n",
    "        # The labels are stored in json format and can be directly loaded as dictionary.\n",
    "        # Note that the file names correspond to the dicts of the label dictionary.\n",
    "        self.batch_size = batch_size\n",
    "        self.image_size = image_size\n",
    "        self.rotation = rotation\n",
    "        self.mirroring = mirroring\n",
    "        self.shuffle = shuffle\n",
    "        \n",
    "        self.image_filenames = []\n",
    "        for filename in os.listdir(file_path):\n",
    "            self.image_filenames.append(os.path.join(file_path, filename))\n",
    "            \n",
    "        if self.shuffle:\n",
    "            np.random.shuffle(self.image_filenames)\n",
    "            \n",
    "        #Labels \n",
    "        with open(label_path, 'r') as f:\n",
    "            self.labels = json.load(f)\n",
    "        \n",
    "        self.class_dict = {0: 'airplane', 1: 'automobile', 2: 'bird', 3: 'cat', 4: 'deer', 5: 'dog', 6: 'frog',\n",
    "                           7: 'horse', 8: 'ship', 9: 'truck'}\n",
    "        \n",
    "        # self.class_indices = {}\n",
    "        # for i, class_name in self.class_dict.items():\n",
    "        #     self.class_indices[class_name] = i\n",
    "        self.num_samples = len(self.image_filenames)\n",
    "        self.num_batches_per_epoch = int(np.ceil(self.num_samples / float(self.batch_size)))\n",
    "        self.index = 0\n",
    "        self.num_batches_completed = 0\n",
    "        \n",
    "    def next(self):\n",
    "            \n",
    "        start_index = self.index\n",
    "        end_index = min(self.index + self.batch_size, len(self.image_filenames))\n",
    "        indices = range(start_index, end_index)\n",
    "            \n",
    "        images = []\n",
    "        labels = []\n",
    "            \n",
    "        for i in indices:\n",
    "            image = np.load(self.image_filenames[i])\n",
    "            image = np.resize(image, self.image_size)\n",
    "            image = self.augment(image)\n",
    "            images.append(image)\n",
    "                \n",
    "            filename = os.path.basename(self.image_filenames[i])\n",
    "            label_name = self.labels[filename.replace('.npy','')]\n",
    "            # label = self.class_dict[label_name]\n",
    "            labels.append(label_name)\n",
    "                \n",
    "        self.num_batches_completed += 1\n",
    "        self.index += self.batch_size\n",
    "        if self.index >= len(self.image_filenames):\n",
    "            self.index = 0\n",
    "            self.num_batches_completed = 0\n",
    "            if self.shuffle:\n",
    "                np.random.shuffle(self.image_filenames)\n",
    "                \n",
    "        if end_index == len(self.image_filenames):             \n",
    "            images_remaining = self.batch_size - len(images)\n",
    "            end_index = images_remaining\n",
    "            indices = range(0, end_index)\n",
    "            for i in indices:\n",
    "                image = np.load(self.image_filenames[i])\n",
    "                image = np.resize(image, self.image_size)\n",
    "                image = self.augment(image)\n",
    "                images.append(image)\n",
    "                \n",
    "                filename = os.path.basename(self.image_filenames[i])\n",
    "                label_name = self.labels[filename.replace('.npy','')]\n",
    "                # label = self.class_dict[label_name]\n",
    "                labels.append(label_name)\n",
    "\n",
    "            self.num_batches_completed += 1\n",
    "            self.index = images_remaining\n",
    "            if self.shuffle:\n",
    "                np.random.shuffle(self.image_filenames)\n",
    "\n",
    "        images = np.array(images)\n",
    "        labels = np.array(labels)\n",
    "\n",
    "        return images, labels\n",
    "    \n",
    "    def current_epoch(self):\n",
    "        # return the current epoch number\n",
    "        return self.num_batches_completed // self.num_batches_per_epoch\n",
    "    \n",
    "    def augment(self, img):\n",
    "        # Perform a random rotation of 0, 90, 180 or 270 degrees\n",
    "        if self.rotation:\n",
    "            rotation_angle = np.random.choice([0, 90, 180, 270])\n",
    "            img = np.rot90(img, k=rotation_angle // 90, axes=(0, 1))\n",
    "            \n",
    "        if self.mirroring:\n",
    "        # randomly mirror image horizontally\n",
    "            if np.random.choice([True, False]):\n",
    "                img = np.fliplr(img)\n",
    "                \n",
    "        return img"
   ]
  },
  {
   "cell_type": "code",
   "execution_count": 52,
   "metadata": {},
   "outputs": [],
   "source": [
    "gen = ImageGenerator(file_path, label_path, 50, [32, 32, 3], rotation=False, mirroring=False,\n",
    "                             shuffle=True)"
   ]
  },
  {
   "cell_type": "code",
   "execution_count": 53,
   "metadata": {},
   "outputs": [
    {
     "name": "stdout",
     "output_type": "stream",
     "text": [
      "0\n"
     ]
    }
   ],
   "source": [
    "gen.next()\n",
    "print(gen.current_epoch())"
   ]
  },
  {
   "cell_type": "code",
   "execution_count": 54,
   "metadata": {},
   "outputs": [
    {
     "name": "stdout",
     "output_type": "stream",
     "text": [
      "0\n"
     ]
    }
   ],
   "source": [
    "gen.next()\n",
    "print(gen.current_epoch())"
   ]
  },
  {
   "cell_type": "code",
   "execution_count": 55,
   "metadata": {},
   "outputs": [
    {
     "name": "stdout",
     "output_type": "stream",
     "text": [
      "1\n"
     ]
    }
   ],
   "source": [
    "gen.next()\n",
    "print(gen.current_epoch())"
   ]
  },
  {
   "cell_type": "code",
   "execution_count": null,
   "metadata": {},
   "outputs": [],
   "source": []
  },
  {
   "cell_type": "code",
   "execution_count": null,
   "metadata": {},
   "outputs": [],
   "source": []
  },
  {
   "cell_type": "code",
   "execution_count": null,
   "metadata": {},
   "outputs": [],
   "source": []
  },
  {
   "cell_type": "code",
   "execution_count": null,
   "metadata": {},
   "outputs": [],
   "source": []
  },
  {
   "cell_type": "code",
   "execution_count": null,
   "metadata": {},
   "outputs": [],
   "source": []
  },
  {
   "cell_type": "code",
   "execution_count": null,
   "metadata": {},
   "outputs": [],
   "source": []
  },
  {
   "cell_type": "code",
   "execution_count": null,
   "metadata": {},
   "outputs": [],
   "source": []
  },
  {
   "cell_type": "code",
   "execution_count": null,
   "metadata": {},
   "outputs": [],
   "source": []
  },
  {
   "cell_type": "code",
   "execution_count": null,
   "metadata": {},
   "outputs": [],
   "source": []
  },
  {
   "cell_type": "code",
   "execution_count": null,
   "metadata": {},
   "outputs": [],
   "source": []
  }
 ],
 "metadata": {
  "kernelspec": {
   "display_name": "base",
   "language": "python",
   "name": "python3"
  },
  "language_info": {
   "codemirror_mode": {
    "name": "ipython",
    "version": 3
   },
   "file_extension": ".py",
   "mimetype": "text/x-python",
   "name": "python",
   "nbconvert_exporter": "python",
   "pygments_lexer": "ipython3",
   "version": "3.9.12"
  },
  "orig_nbformat": 4
 },
 "nbformat": 4,
 "nbformat_minor": 2
}
